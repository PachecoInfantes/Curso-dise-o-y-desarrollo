{
  "nbformat": 4,
  "nbformat_minor": 0,
  "metadata": {
    "colab": {
      "provenance": [],
      "authorship_tag": "ABX9TyOjxnqYmB2dkBBynS2r+PtB",
      "include_colab_link": true
    },
    "kernelspec": {
      "name": "python3",
      "display_name": "Python 3"
    },
    "language_info": {
      "name": "python"
    }
  },
  "cells": [
    {
      "cell_type": "markdown",
      "metadata": {
        "id": "view-in-github",
        "colab_type": "text"
      },
      "source": [
        "<a href=\"https://colab.research.google.com/github/PachecoInfantes/Curso-dise-o-y-desarrollo/blob/main/Curso.ipynb\" target=\"_parent\"><img src=\"https://colab.research.google.com/assets/colab-badge.svg\" alt=\"Open In Colab\"/></a>"
      ]
    },
    {
      "cell_type": "code",
      "execution_count": null,
      "metadata": {
        "id": "nlbX-w3D1ytn",
        "colab": {
          "base_uri": "https://localhost:8080/"
        },
        "outputId": "e62df4e9-3907-494c-9457-0d4100e6733f"
      },
      "outputs": [
        {
          "output_type": "stream",
          "name": "stdout",
          "text": [
            "Hola\n",
            "Hola\n",
            "9\n",
            "Introduzca el primer número:1\n",
            "Introduzca el segundo número:1\n",
            "8\n",
            "Stranger things 3\n"
          ]
        }
      ],
      "source": [
        "print('Hola')\n",
        "Cadena = 'Hola'\n",
        "print(Cadena)\n",
        "Resultado = 1 + 2\n",
        "Resultado = Resultado ** 2\n",
        "print(Resultado)\n",
        "First_number = input('Introduzca el primer número:')\n",
        "Second_number = input('Introduzca el segundo número:')\n",
        "Resultado = (int(First_number) + int(Second_number)) ** 3\n",
        "print(Resultado)\n",
        "String_1 = 'Stranger things '\n",
        "Numero = 3\n",
        "String_2 = String_1 + str(Numero)\n",
        "print(String_2)"
      ]
    }
  ]
}